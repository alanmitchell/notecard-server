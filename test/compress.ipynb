{
 "cells": [
  {
   "cell_type": "markdown",
   "metadata": {},
   "source": [
    "## Tests methods for compressing readings sent through Notecard"
   ]
  },
  {
   "cell_type": "code",
   "execution_count": 3,
   "metadata": {},
   "outputs": [],
   "source": [
    "import pickle\n",
    "import random\n",
    "import string\n",
    "import time"
   ]
  },
  {
   "cell_type": "code",
   "execution_count": 4,
   "metadata": {},
   "outputs": [
    {
     "data": {
      "text/plain": [
       "['jhiohhfcbbkjuvbiysvy',\n",
       " 'oqccxwwxztehlaijzfxw',\n",
       " 'tctaomyhafucoibintnu',\n",
       " 'fypvjmvmeabgjvklatds',\n",
       " 'juvdkefspavjjxpstwzz',\n",
       " 'zqtvymwjgeufpcdbuwjd',\n",
       " 'nhzobkyezpciyonqjfeh',\n",
       " 'sdfgdqqgjvyxkvwpqsdi',\n",
       " 'sgylpkfkxptiwpsghgkv',\n",
       " 'mpdtzfztnbaqkfhfgyue',\n",
       " 'acyrgmjxhiytmywsvgdi',\n",
       " 'uppzmvaavvrhvyupqyyk',\n",
       " 'oslrfivmatrbocogcdhe',\n",
       " 'poljozyirfdyfkkmurlk',\n",
       " 'vbjfzyatlnyxqkedetkw']"
      ]
     },
     "execution_count": 4,
     "metadata": {},
     "output_type": "execute_result"
    }
   ],
   "source": [
    "sensor_ids = []\n",
    "sensor_ct = 15\n",
    "for i in range(sensor_ct):\n",
    "    sensor_ids.append(''.join(random.choices(string.ascii_lowercase, k=20)))\n",
    "sensor_ids"
   ]
  },
  {
   "cell_type": "code",
   "execution_count": 5,
   "metadata": {},
   "outputs": [
    {
     "data": {
      "text/plain": [
       "[(1670628481.8, 'jhiohhfcbbkjuvbiysvy', 0.908177),\n",
       " (1670628481.8, 'oqccxwwxztehlaijzfxw', 0.777778),\n",
       " (1670628481.8, 'tctaomyhafucoibintnu', 0.728349),\n",
       " (1670628481.8, 'fypvjmvmeabgjvklatds', 0.215285),\n",
       " (1670628481.8, 'juvdkefspavjjxpstwzz', 0.599619),\n",
       " (1670628481.8, 'zqtvymwjgeufpcdbuwjd', 0.067323),\n",
       " (1670628481.8, 'nhzobkyezpciyonqjfeh', 0.622199),\n",
       " (1670628481.8, 'sdfgdqqgjvyxkvwpqsdi', 0.02338),\n",
       " (1670628481.8, 'sgylpkfkxptiwpsghgkv', 0.633144),\n",
       " (1670628481.8, 'mpdtzfztnbaqkfhfgyue', 0.061425),\n",
       " (1670628481.8, 'acyrgmjxhiytmywsvgdi', 0.689591),\n",
       " (1670628481.8, 'uppzmvaavvrhvyupqyyk', 0.985525),\n",
       " (1670628481.8, 'oslrfivmatrbocogcdhe', 0.393341),\n",
       " (1670628481.8, 'poljozyirfdyfkkmurlk', 0.263446),\n",
       " (1670628481.8, 'vbjfzyatlnyxqkedetkw', 0.279305),\n",
       " (1670629081.8, 'jhiohhfcbbkjuvbiysvy', 0.501815),\n",
       " (1670629081.8, 'oqccxwwxztehlaijzfxw', 0.030233),\n",
       " (1670629081.8, 'tctaomyhafucoibintnu', 0.533779),\n",
       " (1670629081.8, 'fypvjmvmeabgjvklatds', 0.502442),\n",
       " (1670629081.8, 'juvdkefspavjjxpstwzz', 0.142761),\n",
       " (1670629081.8, 'zqtvymwjgeufpcdbuwjd', 0.642942),\n",
       " (1670629081.8, 'nhzobkyezpciyonqjfeh', 0.094287),\n",
       " (1670629081.8, 'sdfgdqqgjvyxkvwpqsdi', 0.676315),\n",
       " (1670629081.8, 'sgylpkfkxptiwpsghgkv', 0.026244),\n",
       " (1670629081.8, 'mpdtzfztnbaqkfhfgyue', 0.981936),\n",
       " (1670629081.8, 'acyrgmjxhiytmywsvgdi', 0.403836),\n",
       " (1670629081.8, 'uppzmvaavvrhvyupqyyk', 0.498295),\n",
       " (1670629081.8, 'oslrfivmatrbocogcdhe', 0.641759),\n",
       " (1670629081.8, 'poljozyirfdyfkkmurlk', 0.632358),\n",
       " (1670629081.8, 'vbjfzyatlnyxqkedetkw', 0.400004),\n",
       " (1670629681.8, 'jhiohhfcbbkjuvbiysvy', 0.774802),\n",
       " (1670629681.8, 'oqccxwwxztehlaijzfxw', 0.813206),\n",
       " (1670629681.8, 'tctaomyhafucoibintnu', 0.78978),\n",
       " (1670629681.8, 'fypvjmvmeabgjvklatds', 0.249938),\n",
       " (1670629681.8, 'juvdkefspavjjxpstwzz', 0.334719),\n",
       " (1670629681.8, 'zqtvymwjgeufpcdbuwjd', 0.316202),\n",
       " (1670629681.8, 'nhzobkyezpciyonqjfeh', 0.426107),\n",
       " (1670629681.8, 'sdfgdqqgjvyxkvwpqsdi', 0.392008),\n",
       " (1670629681.8, 'sgylpkfkxptiwpsghgkv', 0.878385),\n",
       " (1670629681.8, 'mpdtzfztnbaqkfhfgyue', 0.429163),\n",
       " (1670629681.8, 'acyrgmjxhiytmywsvgdi', 0.988574),\n",
       " (1670629681.8, 'uppzmvaavvrhvyupqyyk', 0.734736),\n",
       " (1670629681.8, 'oslrfivmatrbocogcdhe', 0.522018),\n",
       " (1670629681.8, 'poljozyirfdyfkkmurlk', 0.781446),\n",
       " (1670629681.8, 'vbjfzyatlnyxqkedetkw', 0.31295),\n",
       " (1670630281.8, 'jhiohhfcbbkjuvbiysvy', 0.405034),\n",
       " (1670630281.8, 'oqccxwwxztehlaijzfxw', 0.193331),\n",
       " (1670630281.8, 'tctaomyhafucoibintnu', 0.260188),\n",
       " (1670630281.8, 'fypvjmvmeabgjvklatds', 0.637458),\n",
       " (1670630281.8, 'juvdkefspavjjxpstwzz', 0.727209),\n",
       " (1670630281.8, 'zqtvymwjgeufpcdbuwjd', 0.223451),\n",
       " (1670630281.8, 'nhzobkyezpciyonqjfeh', 0.345341),\n",
       " (1670630281.8, 'sdfgdqqgjvyxkvwpqsdi', 0.10682),\n",
       " (1670630281.8, 'sgylpkfkxptiwpsghgkv', 0.57687),\n",
       " (1670630281.8, 'mpdtzfztnbaqkfhfgyue', 0.148596),\n",
       " (1670630281.8, 'acyrgmjxhiytmywsvgdi', 0.476509),\n",
       " (1670630281.8, 'uppzmvaavvrhvyupqyyk', 0.791619),\n",
       " (1670630281.8, 'oslrfivmatrbocogcdhe', 0.673053),\n",
       " (1670630281.8, 'poljozyirfdyfkkmurlk', 0.050946),\n",
       " (1670630281.8, 'vbjfzyatlnyxqkedetkw', 0.800492),\n",
       " (1670630881.8, 'jhiohhfcbbkjuvbiysvy', 0.183885),\n",
       " (1670630881.8, 'oqccxwwxztehlaijzfxw', 0.681403),\n",
       " (1670630881.8, 'tctaomyhafucoibintnu', 0.766658),\n",
       " (1670630881.8, 'fypvjmvmeabgjvklatds', 0.637896),\n",
       " (1670630881.8, 'juvdkefspavjjxpstwzz', 0.332867),\n",
       " (1670630881.8, 'zqtvymwjgeufpcdbuwjd', 0.125393),\n",
       " (1670630881.8, 'nhzobkyezpciyonqjfeh', 0.390388),\n",
       " (1670630881.8, 'sdfgdqqgjvyxkvwpqsdi', 0.193442),\n",
       " (1670630881.8, 'sgylpkfkxptiwpsghgkv', 0.967082),\n",
       " (1670630881.8, 'mpdtzfztnbaqkfhfgyue', 0.092599),\n",
       " (1670630881.8, 'acyrgmjxhiytmywsvgdi', 0.32112),\n",
       " (1670630881.8, 'uppzmvaavvrhvyupqyyk', 0.386387),\n",
       " (1670630881.8, 'oslrfivmatrbocogcdhe', 0.852551),\n",
       " (1670630881.8, 'poljozyirfdyfkkmurlk', 0.740803),\n",
       " (1670630881.8, 'vbjfzyatlnyxqkedetkw', 0.600778),\n",
       " (1670631481.8, 'jhiohhfcbbkjuvbiysvy', 0.139362),\n",
       " (1670631481.8, 'oqccxwwxztehlaijzfxw', 0.301006),\n",
       " (1670631481.8, 'tctaomyhafucoibintnu', 0.598618),\n",
       " (1670631481.8, 'fypvjmvmeabgjvklatds', 0.517786),\n",
       " (1670631481.8, 'juvdkefspavjjxpstwzz', 0.641167),\n",
       " (1670631481.8, 'zqtvymwjgeufpcdbuwjd', 0.055565),\n",
       " (1670631481.8, 'nhzobkyezpciyonqjfeh', 0.710812),\n",
       " (1670631481.8, 'sdfgdqqgjvyxkvwpqsdi', 0.949761),\n",
       " (1670631481.8, 'sgylpkfkxptiwpsghgkv', 0.974051),\n",
       " (1670631481.8, 'mpdtzfztnbaqkfhfgyue', 0.337521),\n",
       " (1670631481.8, 'acyrgmjxhiytmywsvgdi', 0.230608),\n",
       " (1670631481.8, 'uppzmvaavvrhvyupqyyk', 0.489158),\n",
       " (1670631481.8, 'oslrfivmatrbocogcdhe', 0.446914),\n",
       " (1670631481.8, 'poljozyirfdyfkkmurlk', 0.785712),\n",
       " (1670631481.8, 'vbjfzyatlnyxqkedetkw', 0.475389)]"
      ]
     },
     "execution_count": 5,
     "metadata": {},
     "output_type": "execute_result"
    }
   ],
   "source": [
    "readings = []\n",
    "ts = round(time.time(), 1)\n",
    "for tstep in range(6):\n",
    "    t = ts + tstep * 600\n",
    "    for sensor in sensor_ids:\n",
    "        val = round(random.random(), 6)\n",
    "        readings.append( (t, sensor, val))\n",
    "readings"
   ]
  },
  {
   "cell_type": "code",
   "execution_count": 6,
   "metadata": {},
   "outputs": [
    {
     "name": "stdout",
     "output_type": "stream",
     "text": [
      "Length as uncompressed text 4494\n"
     ]
    }
   ],
   "source": [
    "data = str(readings).encode('utf-8')\n",
    "print('Length as uncompressed text', len(data))"
   ]
  },
  {
   "cell_type": "markdown",
   "metadata": {},
   "source": [
    "### Remember that we then have to convert compressed bytes to Base 64\n",
    "Compression ratio will be lowered to 0.75 x value shown here."
   ]
  },
  {
   "cell_type": "code",
   "execution_count": 7,
   "metadata": {},
   "outputs": [
    {
     "name": "stdout",
     "output_type": "stream",
     "text": [
      "bz2 compression ratio 4.676378772112383\n"
     ]
    }
   ],
   "source": [
    "import bz2\n",
    "# Compress the string representation\n",
    "c = bz2.compress(data)\n",
    "print('bz2 compression ratio', len(data) / len(c))"
   ]
  },
  {
   "cell_type": "code",
   "execution_count": 8,
   "metadata": {},
   "outputs": [
    {
     "name": "stdout",
     "output_type": "stream",
     "text": [
      "pickle alone 1.9446127217654694\n"
     ]
    }
   ],
   "source": [
    "pickle_data = pickle.dumps(readings, pickle.HIGHEST_PROTOCOL)\n",
    "print('pickle alone', len(data) / len(pickle_data))"
   ]
  },
  {
   "cell_type": "code",
   "execution_count": 9,
   "metadata": {},
   "outputs": [
    {
     "name": "stdout",
     "output_type": "stream",
     "text": [
      "pickle with bz2 compression 2.9682959048877144\n"
     ]
    }
   ],
   "source": [
    "print('pickle with bz2 compression', len(data) / len(bz2.compress(pickle_data)))"
   ]
  },
  {
   "cell_type": "markdown",
   "metadata": {},
   "source": [
    "Looks like BZ2 compression of the string representation of the Readings Array is best.\n",
    "\n",
    "Will then need to convert to Base64 and could assign to the Payload key of the Note."
   ]
  },
  {
   "cell_type": "markdown",
   "metadata": {},
   "source": [
    "## Test of compression, decompression"
   ]
  },
  {
   "cell_type": "code",
   "execution_count": 20,
   "metadata": {},
   "outputs": [
    {
     "data": {
      "text/plain": [
       "(4494, 961, 1284)"
      ]
     },
     "execution_count": 20,
     "metadata": {},
     "output_type": "execute_result"
    }
   ],
   "source": [
    "import base64\n",
    "\n",
    "data = bz2.compress(str(readings).encode('utf-8'))\n",
    "sdata = base64.b64encode(data).decode('utf-8')\n",
    "len(str(readings)), len(data), len(sdata)"
   ]
  },
  {
   "cell_type": "code",
   "execution_count": 21,
   "metadata": {},
   "outputs": [
    {
     "name": "stdout",
     "output_type": "stream",
     "text": [
      "QlpoOTFBWSZTWR7YzbYABULbgGAAQOV/4AAKP///8FAE6ru1EiLu8UUooMiNJ6kABobTUABpoGIAVUAAmBGEGCDTCmgkoAAZAAAEVU2k/VPJMamp6j1HqGgDRo0CKUAaNTU8Ap6poAAxHzuQSABd8v5zuROUoYfmWpr5KuFbFmcPXJIwktcYERInRO8tzcmxN8uxZO6F1OHTC+nGDy+gAkiiEkEW0Sc9ULWoFpBEjR0UQqV5O8FdGcU9ppWJ6U5VY+J8QuHU5l1MpRECmqoxo22yichFPFBTwEU1VQmIpsBvEUEcuc52PZrE78FVVZjj7bt4KWY34BQqgeCDrwkwqsk7uhrrHempRwIJHY+1nXFa7ctOM1VJLWAjnvFCqG7664eFdFjHWRYfC+ZQin8G83S8vC4S8PG1q2IltdnJL2SaynJKHa5J6WrtHKCS/W5JukwADYpeJTRQQycp5qam9imdqkJNk3LvkBLeHw7olIOHGxfDdlqPoWFEM5GSxBMcBBBJJBBJJJBJBBLnWXoWZeDEd2MI76U4XesS72LxYYV17u9d8rw81JU801hmicxXVEEh0QSLgQhaPRwUWSCRtYmJKaW5hUIWQSROVriAnjH7VPZWReZbsufcmeTQzLn+Oy+brALw5qqFUOI2tvolpxFORRsQtJwOOCRQwgyQxuMRuQxOJxBwpuMJqRBKQYWdTqJXy7YAD1q7e08WNrOluqo2crA0U/MLEdnEnr6dnr1RzILqkcwzlMQSUriqoyOsE46bAbAdYMwfAOAPUFQZg+gbwe48x5DYPmOANB/B6DyHmPQd4/o7BgfscxmMx9hoHcfUaBhvIgiIjIYG0ZDiMg3iEjUf6DUNg+Q3DuNw6DkNY0jcNQ1jQMhyHyH1HoYGQ6jmOQ0joO47jUajaMDeNR4DA2jkN47x/hmNw9w0BsHMfA4DiOI7DyNY1j7DmNI0DsOoPY8jSOwPQ7j2NhkxEMGA6DA9jMcxmMxxHkdBrGwcxsHYeBsGY9DgDgOYzHUcx3DcNAYGwcxkOY7hxHQdowOg8jIZA4DkOgyHgcRsHsehgYHgGQ4jmPI+Y1jkPmNgzGB2HUfA4DyOIzGo4DQbBxHIZDwGg9YwNRqMD3jSNg1DoNI4DsMxqHEbRuGQ0DsO4PA8jSOg2DA4DMchuHcbR2GsbxtHgexuHoriAgiMBvG8ZD4GseBkN41DA0Gwch0GBoOgwPYN4yGY6jA4DcMhoBqGobRgeB5G8Zj4HYdB5HgdRyB6HYf+LuSKcKEgPbGbbA==\n"
     ]
    }
   ],
   "source": [
    "print(sdata)"
   ]
  },
  {
   "cell_type": "code",
   "execution_count": 109,
   "metadata": {},
   "outputs": [],
   "source": [
    "sdata = 'QlpoOTFBWSZTWZGlX9gAAPUbgEDlf+AACooj3wAwAPigjRENp6oAANAxgAAAABElMp5TUyYEaYEsiPVOwzuNgTpFdecm6qqq31XGq6cbj0tCQkJOKBwEMjsdgyYAlDQchoNTOsENJem9qOQhoVzodoGhtN1b2ENWrhoiAAYpNC8oaMjMxKq7gSYziUBJcmMC6FUQyBbIhjAheWupMSTMzWAcWkevD0PsYD2HwND8GAPwfQ9x9jQ7ByPsbj8GCGBDUfAh6BoH/F3JFOFCQkaVf2A='"
   ]
  },
  {
   "cell_type": "code",
   "execution_count": 110,
   "metadata": {},
   "outputs": [
    {
     "data": {
      "text/plain": [
       "[(1670729849.7, 'test_version', 3.8),\n",
       " (1670729849.7, 'test_uptime', 27055.0),\n",
       " (1670729552.2, 'test_cpu_temp', 53.471),\n",
       " (1670730449.8, 'test_version', 3.8),\n",
       " (1670730449.8, 'test_uptime', 27655.0),\n",
       " (1670730152.2, 'test_cpu_temp', 53.191),\n",
       " (1670731049.7, 'test_version', 3.8),\n",
       " (1670731049.7, 'test_uptime', 28255.0),\n",
       " (1670730752.2, 'test_cpu_temp', 53.142),\n",
       " (1670731649.7, 'test_version', 3.8),\n",
       " (1670731649.7, 'test_uptime', 28855.0),\n",
       " (1670731352.2, 'test_cpu_temp', 53.175),\n",
       " (1670732249.8, 'test_version', 3.8),\n",
       " (1670732249.8, 'test_uptime', 29455.0),\n",
       " (1670731952.2, 'test_cpu_temp', 52.789),\n",
       " (1670732849.7, 'test_version', 3.8),\n",
       " (1670732849.7, 'test_uptime', 30055.0),\n",
       " (1670732552.2, 'test_cpu_temp', 52.533)]"
      ]
     },
     "execution_count": 110,
     "metadata": {},
     "output_type": "execute_result"
    }
   ],
   "source": [
    "# Restore this to a readings array\n",
    "data_compressed = base64.b64decode(sdata)\n",
    "data = bz2.decompress(data_compressed)\n",
    "readings_restored = eval(data)      # eval seems to work with bytes\n",
    "readings_restored"
   ]
  },
  {
   "cell_type": "markdown",
   "metadata": {},
   "source": [
    "## Another Compression Method\n",
    "\n",
    "Use a 1-byte number to identify the sensor ID (limit of 256 IDs in one batch of readings),\n",
    "express timestamp as a delta from a base timestamp.  The delta would be expressed in tenths\n",
    "of a second; since less than one hour of data is tranmitted, we only need the numbers\n",
    "0 - 36,000 to epress the delta.  The value would be epressed as a 4-byte, single-precision\n",
    "floating point value.\n",
    "\n",
    "Total record size is therefore 7 bytes.  Just build a large bytearray of 7-byte records.\n",
    "Compress with bz2 and then encode as a base64 string."
   ]
  },
  {
   "cell_type": "code",
   "execution_count": 74,
   "metadata": {},
   "outputs": [
    {
     "data": {
      "text/plain": [
       "4494"
      ]
     },
     "execution_count": 74,
     "metadata": {},
     "output_type": "execute_result"
    }
   ],
   "source": [
    "raw_str_data = str(readings).encode('utf-8')\n",
    "len(raw_str_data)"
   ]
  },
  {
   "cell_type": "code",
   "execution_count": 75,
   "metadata": {},
   "outputs": [
    {
     "data": {
      "text/plain": [
       "bytearray(b'\\x04\\x05abc')"
      ]
     },
     "execution_count": 75,
     "metadata": {},
     "output_type": "execute_result"
    }
   ],
   "source": [
    "recs = bytearray()\n",
    "recs.append(4)\n",
    "recs.append(5)\n",
    "recs += b'abc'\n",
    "recs"
   ]
  },
  {
   "cell_type": "code",
   "execution_count": 86,
   "metadata": {},
   "outputs": [],
   "source": [
    "ts_arr, id_arr, val_arr = zip(*readings)\n",
    "\n",
    "# create dictionary of all unique sensor IDs mapped to a sensor integer\n",
    "ids_uniq = list(set(id_arr))\n",
    "sensor_map = dict(zip(ids_uniq, range(len(ids_uniq))))\n",
    "\n",
    "# get the minimum ts to use as a base\n",
    "ts_base = min(ts_arr)\n"
   ]
  },
  {
   "cell_type": "code",
   "execution_count": 81,
   "metadata": {},
   "outputs": [
    {
     "data": {
      "text/plain": [
       "(36000, 255, 2.434e-05)"
      ]
     },
     "execution_count": 81,
     "metadata": {},
     "output_type": "execute_result"
    }
   ],
   "source": [
    "# need specify Byte order to avoid automatic padding\n",
    "import struct\n",
    "rec = struct.pack('<HBd', 36000, 255, 2.434e-5)\n",
    "struct.unpack('<HBd', rec)"
   ]
  },
  {
   "cell_type": "code",
   "execution_count": 82,
   "metadata": {},
   "outputs": [
    {
     "data": {
      "text/plain": [
       "990"
      ]
     },
     "execution_count": 82,
     "metadata": {},
     "output_type": "execute_result"
    }
   ],
   "source": [
    "# Need to use a Double for the val field in order to accommodate counters.\n",
    "recs = b''\n",
    "for ts, sensor_id, val in readings:\n",
    "    rec = struct.pack(\n",
    "        '<HBd',                       # need specify Byte order to avoid automatic padding\n",
    "        int((ts - ts_base) * 10), \n",
    "        sensor_map[sensor_id], \n",
    "        val)\n",
    "    recs += rec\n",
    "len(recs)"
   ]
  },
  {
   "cell_type": "code",
   "execution_count": 83,
   "metadata": {},
   "outputs": [
    {
     "data": {
      "text/plain": [
       "(1090, 990)"
      ]
     },
     "execution_count": 83,
     "metadata": {},
     "output_type": "execute_result"
    }
   ],
   "source": [
    "# Compression **increases** the size of the byte array!  It was already highly compressed.\n",
    "# This is worse than just compressing the string representation of the readings array,\n",
    "# and more complicated.\n",
    "len(bz2.compress(recs)), len(recs)"
   ]
  },
  {
   "cell_type": "code",
   "execution_count": 93,
   "metadata": {},
   "outputs": [
    {
     "name": "stdout",
     "output_type": "stream",
     "text": [
      "Integer IDs 565\n",
      "String IDs 961\n"
     ]
    }
   ],
   "source": [
    "# Curious whether substituting sensor ID integers helps the string compression \n",
    "# in the original method\n",
    "id_int_arr = [sensor_map[id] for id in id_arr]\n",
    "readings_2 = list(zip(ts_arr, id_int_arr, val_arr))\n",
    "print('Integer IDs', len(bz2.compress(str(readings_2).encode('utf-8'))))\n",
    "print('String IDs', len(bz2.compress(str(readings).encode('utf-8'))))\n",
    "\n",
    "# ***BUT*** When you add in the Sensor Map that you need to send along with this payload\n",
    "# The total bytes were 1189 bytes, as opposed to just compressing the unaltered string \n",
    "# version of the readings array, which comes out to 1284 bytes.  So, the savings are really\n",
    "# very little and not worth the additional complexity."
   ]
  },
  {
   "cell_type": "code",
   "execution_count": 94,
   "metadata": {},
   "outputs": [
    {
     "name": "stdout",
     "output_type": "stream",
     "text": [
      "Integer IDs + Delta ts 540\n"
     ]
    }
   ],
   "source": [
    "# What about also substituting ts deltas in tenths\n",
    "ts_delta_arr = [int(10 * (ts - ts_base)) for ts in ts_arr]\n",
    "readings_3 = list(zip(ts_delta_arr, id_int_arr, val_arr))\n",
    "print('Integer IDs + Delta ts', len(bz2.compress(str(readings_3).encode('utf-8'))))\n",
    "# Very little additional compression\n"
   ]
  },
  {
   "cell_type": "code",
   "execution_count": 98,
   "metadata": {},
   "outputs": [
    {
     "data": {
      "text/plain": [
       "59"
      ]
     },
     "execution_count": 98,
     "metadata": {},
     "output_type": "execute_result"
    }
   ],
   "source": [
    "# How does this algorithm work for a small array:\n",
    "d = {\n",
    "\t\"storeKey\": \"124343abc\",\n",
    "\t\"readings\": [\n",
    "\t\t[6542342.2, \"abc123\", 23.4],\n",
    "\t\t[6542344.8, \"xyz_456\", 33.4]\n",
    "\t]\n",
    "}\n",
    "len(str(d['readings']))"
   ]
  },
  {
   "cell_type": "code",
   "execution_count": 99,
   "metadata": {},
   "outputs": [
    {
     "name": "stdout",
     "output_type": "stream",
     "text": [
      "Small Compressed 65\n"
     ]
    }
   ],
   "source": [
    "small_rd = [\n",
    "\t\t[6542342.2, 0, 23.4],\n",
    "\t\t[6542344.8, 1, 33.4]\n",
    "\t]\n",
    "print('Small Compressed', len(bz2.compress(str(small_rd).encode('utf-8'))))\n",
    "\n",
    "# not terrible, except do need to add the sensor map into the body.\n"
   ]
  },
  {
   "cell_type": "code",
   "execution_count": 100,
   "metadata": {},
   "outputs": [
    {
     "name": "stdout",
     "output_type": "stream",
     "text": [
      "Integer IDs 616\n"
     ]
    }
   ],
   "source": [
    "# Try lzma with Integer Sensor ID reading array\n",
    "import lzma\n",
    "print('Integer IDs', len(lzma.compress(str(readings_2).encode('utf-8'))))\n",
    "\n",
    "# a little worse than bz2.\n"
   ]
  },
  {
   "cell_type": "markdown",
   "metadata": {},
   "source": [
    "### Experiments"
   ]
  },
  {
   "cell_type": "code",
   "execution_count": 112,
   "metadata": {},
   "outputs": [
    {
     "data": {
      "text/plain": [
       "['/boot/pi_logger',\n",
       " '/home/alan/notecard-server/test',\n",
       " '/home/alan/anaconda3/lib/python39.zip',\n",
       " '/home/alan/anaconda3/lib/python3.9',\n",
       " '/home/alan/anaconda3/lib/python3.9/lib-dynload',\n",
       " '',\n",
       " '/home/alan/anaconda3/lib/python3.9/site-packages',\n",
       " '/home/alan/anaconda3/lib/python3.9/site-packages/IPython/extensions',\n",
       " '/home/alan/.ipython']"
      ]
     },
     "execution_count": 112,
     "metadata": {},
     "output_type": "execute_result"
    }
   ],
   "source": [
    "from pathlib import Path\n",
    "import sys\n",
    "stg_path = Path('/boot/pi_logger/settings.py')\n",
    "sys.path.insert(0, str(stg_path.parent))\n",
    "sys.path"
   ]
  }
 ],
 "metadata": {
  "kernelspec": {
   "display_name": "Python 3.9.13 ('base')",
   "language": "python",
   "name": "python3"
  },
  "language_info": {
   "codemirror_mode": {
    "name": "ipython",
    "version": 3
   },
   "file_extension": ".py",
   "mimetype": "text/x-python",
   "name": "python",
   "nbconvert_exporter": "python",
   "pygments_lexer": "ipython3",
   "version": "3.9.13"
  },
  "orig_nbformat": 4,
  "vscode": {
   "interpreter": {
    "hash": "b336b2e25951ee9709258584149b22d89d818b16e72dafb499a0c2ddcae7c098"
   }
  }
 },
 "nbformat": 4,
 "nbformat_minor": 2
}
